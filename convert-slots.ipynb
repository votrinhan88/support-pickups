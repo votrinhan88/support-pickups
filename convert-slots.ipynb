{
 "cells": [
  {
   "cell_type": "code",
   "execution_count": 1,
   "metadata": {},
   "outputs": [],
   "source": [
    "import xml.etree.ElementTree as ET\n",
    "import xmltodict\n",
    "\n",
    "from resources.slots import GROUP_TO_SLOTS_8, GROUP_TO_SLOTS_4\n",
    "from resources.weapons import WEAPONS_CONVERSION\n",
    "\n",
    "PATH_OUTPUTS = './outputs'\n",
    "DELETE_TOKEN = '!DELETE'"
   ]
  },
  {
   "cell_type": "code",
   "execution_count": 2,
   "metadata": {},
   "outputs": [],
   "source": [
    "PATH_PICKUPS_XML = './composed/mod/Pickups/pickups.xml'\n",
    "pickups_xml = ET.parse(source=PATH_PICKUPS_XML).getroot()\n",
    "pickups = xmltodict.parse(ET.tostring(pickups_xml))\n",
    "\n",
    "WEAPON_2_GROUP = {}\n",
    "for k, v in WEAPONS_CONVERSION.items():\n",
    "    WEAPON_2_GROUP[k] = v['metadata']['Group'] if 'metadata' in v else None"
   ]
  },
  {
   "cell_type": "code",
   "execution_count": null,
   "metadata": {},
   "outputs": [],
   "source": [
    "for p in pickups['PickupData']['Pickup']:\n",
    "    weapon = p['WeaponAsset']\n",
    "    p['Group'] = GROUP_TO_SLOTS_4[WEAPON_2_GROUP[weapon]]\n",
    "    print(f\"{weapon.ljust(26)} {WEAPON_2_GROUP[weapon].ljust(15)} {p['Group']}\")"
   ]
  },
  {
   "cell_type": "code",
   "execution_count": 4,
   "metadata": {},
   "outputs": [],
   "source": [
    "pickups_xml = ET.ElementTree(element=ET.fromstring(text=xmltodict.unparse(\n",
    "    input_dict=pickups,\n",
    "    encoding='utf-8',\n",
    "    pretty=True,\n",
    "    indent=2,\n",
    ")))\n",
    "pickups_xml.write(\n",
    "    file_or_filename=f'{PATH_OUTPUTS}/pickups.xml',\n",
    "    encoding=\"utf-8\",\n",
    "    xml_declaration=True,\n",
    ")"
   ]
  }
 ],
 "metadata": {
  "kernelspec": {
   "display_name": "Python 3",
   "language": "python",
   "name": "python3"
  },
  "language_info": {
   "codemirror_mode": {
    "name": "ipython",
    "version": 3
   },
   "file_extension": ".py",
   "mimetype": "text/x-python",
   "name": "python",
   "nbconvert_exporter": "python",
   "pygments_lexer": "ipython3",
   "version": "3.12.8"
  }
 },
 "nbformat": 4,
 "nbformat_minor": 2
}
