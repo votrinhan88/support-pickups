{
 "cells": [
  {
   "cell_type": "code",
   "execution_count": 1,
   "metadata": {},
   "outputs": [],
   "source": [
    "import os\n",
    "\n",
    "import xml.etree.ElementTree as ET\n",
    "import xmltodict\n",
    "\n",
    "from resources.conversion import WEAPONS_CONVERSION\n",
    "from resources.slots import GROUP_TO_SLOTS_DEFAULT_8, GROUP_TO_SLOTS_DEFAULT_4\n",
    "\n",
    "PATH_OUTPUTS = './outputs'"
   ]
  },
  {
   "cell_type": "code",
   "execution_count": null,
   "metadata": {},
   "outputs": [],
   "source": [
    "# Change slots based on your custom settings with this GROUP_TO_SLOTS_CUSTOM\n",
    "GROUP_TO_SLOTS_CUSTOM = GROUP_TO_SLOTS_DEFAULT_4\n",
    "\n",
    "PATH_PICKUPS_XML = './composed/mod/Pickups/pickups.xml'\n",
    "pickups_xml = ET.parse(source=PATH_PICKUPS_XML).getroot()\n",
    "pickups = xmltodict.parse(ET.tostring(pickups_xml))\n",
    "\n",
    "WEAPON_2_GROUP = {}\n",
    "for k, v in WEAPONS_CONVERSION.items():\n",
    "    WEAPON_2_GROUP[k] = v['metadata']['Group'] if 'metadata' in v else None\n",
    "\n",
    "for p in pickups['PickupData']['Pickup']:\n",
    "    weapon = p['WeaponAsset']\n",
    "    p['Group'] = GROUP_TO_SLOTS_CUSTOM[WEAPON_2_GROUP[weapon]]\n",
    "    # print(f\"{weapon.ljust(26)} {WEAPON_2_GROUP[weapon].ljust(15)} {p['Group']}\")\n",
    "\n",
    "# Export\n",
    "f = f'{PATH_OUTPUTS}/Pickups/pickups.xml'\n",
    "if not os.path.exists(os.path.dirname(f)):\n",
    "    os.makedirs(os.path.dirname(f))\n",
    "\n",
    "pickups_xml = ET.ElementTree(element=ET.fromstring(text=xmltodict.unparse(\n",
    "    input_dict=pickups,\n",
    "    encoding='utf-8',\n",
    "    pretty=True,\n",
    "    indent=2,\n",
    ")))\n",
    "pickups_xml.write(\n",
    "    file_or_filename=f,\n",
    "    encoding=\"utf-8\",\n",
    "    xml_declaration=True,\n",
    ")\n",
    "print(f)"
   ]
  }
 ],
 "metadata": {
  "kernelspec": {
   "display_name": "support-pickups",
   "language": "python",
   "name": "python3"
  },
  "language_info": {
   "codemirror_mode": {
    "name": "ipython",
    "version": 3
   },
   "file_extension": ".py",
   "mimetype": "text/x-python",
   "name": "python",
   "nbconvert_exporter": "python",
   "pygments_lexer": "ipython3",
   "version": "3.12.8"
  }
 },
 "nbformat": 4,
 "nbformat_minor": 2
}
